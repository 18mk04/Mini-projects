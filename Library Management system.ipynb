{
 "cells": [
  {
   "cell_type": "code",
   "execution_count": null,
   "id": "7abcb496-db6f-40e3-a368-a1b352cf2d5c",
   "metadata": {},
   "outputs": [],
   "source": [
    "class Library:\n",
    "  def __init__(self):\n",
    "    self.books=[]\n",
    "  def add_book(self,book_name):\n",
    "    self.books.append(book_name)\n",
    "    print(f\"Book'{book_name}' has been added to your Library.\")\n",
    "  def borrow_book(self,book_name):\n",
    "    if book_name in self.books:\n",
    "      self.books.remove(book_name)\n",
    "      print(f\"You have borrowed'{book_name}'.\")\n",
    "    else:\n",
    "      print(f\"sorry,'{book_name}'is not available in the Library.\")\n",
    "  def return_book(self,book_name):\n",
    "    self.books.append(book_name)\n",
    "    print(f\"Book'{book_name}'has been returned to the Library.\")\n",
    "  def display(self):\n",
    "    if self.books:\n",
    "      print(\"Books available in the Library:\")\n",
    "      for i in self.books:\n",
    "        print(i)\n",
    "\n",
    "    else:\n",
    "      print(\"There is no Books available in Library\")\n",
    "\n",
    "def main():\n",
    "  library=Library()\n",
    "  while True:\n",
    "    print(\"\\t\\tWelcome to our Library\")\n",
    "    print(\"\\n\\n\\tLibrary Management System\")\n",
    "    print(\"1. Add a Book.\")\n",
    "    print(\"2. Borrow a Book.\")\n",
    "    print(\"3. Return a Book.\")\n",
    "    print(\"4. Display the Books.\")\n",
    "    print(\"5. Exit\")\n",
    "\n",
    "    choice=int(input(\"Enter your choice:\"))\n",
    "    if choice==1:\n",
    "      book_name=input(\"Enter the Book name to Add:\")\n",
    "      library.add_book(book_name)\n",
    "    elif choice==2:\n",
    "      book_name=input(\"Enter the Book name to Borrow:\")\n",
    "      library.borrow_book(book_name)\n",
    "    elif choice==3:\n",
    "      book_name=input(\"Enter the book name to Return:\")\n",
    "      library.return_book(book_name)\n",
    "    elif choice==4:\n",
    "      library.display()\n",
    "    elif choice==5:\n",
    "      print(\"Thanks for visits Our Library\")\n",
    "      break\n",
    "    else:\n",
    "      print(\"Invalid Choice\")\n",
    "if __name__ == \"__main__\":\n",
    "  main()\n",
    "\n"
   ]
  },
  {
   "cell_type": "code",
   "execution_count": null,
   "id": "61335051-3b1c-43e1-a6e3-7e376b5d1a57",
   "metadata": {},
   "outputs": [],
   "source": []
  }
 ],
 "metadata": {
  "kernelspec": {
   "display_name": "Python 3 (ipykernel)",
   "language": "python",
   "name": "python3"
  },
  "language_info": {
   "codemirror_mode": {
    "name": "ipython",
    "version": 3
   },
   "file_extension": ".py",
   "mimetype": "text/x-python",
   "name": "python",
   "nbconvert_exporter": "python",
   "pygments_lexer": "ipython3",
   "version": "3.12.4"
  }
 },
 "nbformat": 4,
 "nbformat_minor": 5
}
