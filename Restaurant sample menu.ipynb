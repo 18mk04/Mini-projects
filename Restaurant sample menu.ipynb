{
 "cells": [
  {
   "cell_type": "code",
   "execution_count": null,
   "id": "841243a8-5427-404b-b71e-9c49928b138e",
   "metadata": {},
   "outputs": [],
   "source": [
    "menu = {\n",
    "    'Idly':10,\n",
    "    'Dosaa':25,\n",
    "    'Vadaa':10,\n",
    "    'Poori':20,\n",
    "}\n",
    "print(\"\\tWelcome to the world of Breakfast\")\n",
    "print(\"\\nIdly :Rs10\\nDosaa:Rs25\\nVadaa:Rs10\\nPoori:Rs20\")\n",
    "order_total =0\n",
    "\n",
    "item_1 = input(\"\\nEnter your order:\")\n",
    "\n",
    "if item_1 in menu:\n",
    "\n",
    "    order_total +=int(input(\"Enter quantity\"))* menu[item_1]\n",
    "    print(f\"Thank you for order {item_1}\")\n",
    "else:\n",
    "    print(\"Please order something else we serve to you\")\n",
    "for item in menu:\n",
    "    another_order=input(\"Do you want any other order?(yes/no)\")\n",
    "    if another_order == \"yes\":\n",
    "        item =input(\"\\nEnter any other order you want:\")\n",
    "        if item in menu:\n",
    "            order_total +=int(input(\"Enter quantity\"))* menu[item]\n",
    "            print(f\"Thank you for Order {item}\")\n",
    "        else:\n",
    "            print(f\"{item} is not available\")\n",
    "    else:\n",
    "        break\n",
    "        \n",
    "print('Total Amout to pay :', order_total)\n",
    "print(\"Thank you for visit our Restaurant! Have a Good Day\")  "
   ]
  }
 ],
 "metadata": {
  "kernelspec": {
   "display_name": "Python 3 (ipykernel)",
   "language": "python",
   "name": "python3"
  },
  "language_info": {
   "codemirror_mode": {
    "name": "ipython",
    "version": 3
   },
   "file_extension": ".py",
   "mimetype": "text/x-python",
   "name": "python",
   "nbconvert_exporter": "python",
   "pygments_lexer": "ipython3",
   "version": "3.12.4"
  }
 },
 "nbformat": 4,
 "nbformat_minor": 5
}
